{
 "cells": [
  {
   "cell_type": "markdown",
   "metadata": {},
   "source": [
    "<center>\n",
    "    <img src=\"https://s3-api.us-geo.objectstorage.softlayer.net/cf-courses-data/CognitiveClass/Logos/organization_logo/organization_logo.png\" width=\"300\" alt=\"cognitiveclass.ai logo\"  />\n",
    "</center>\n"
   ]
  },
  {
   "cell_type": "markdown",
   "metadata": {
    "tags": []
   },
   "source": [
    "#### Add your code below following the instructions given in the course\n"
   ]
  },
  {
   "cell_type": "markdown",
   "metadata": {
    "tags": []
   },
   "source": [
    "# My Jupyter Notebook on IBM Watson Studio"
   ]
  },
  {
   "cell_type": "markdown",
   "metadata": {},
   "source": [
    "**Errikos Kiladis**  \n",
    " Desired Occupation: Business Analyst\n",
    "\n"
   ]
  },
  {
   "cell_type": "markdown",
   "metadata": {},
   "source": [
    "*I am interested in data science because I am a curiosity-driven person who loves programming and statistics.*"
   ]
  },
  {
   "cell_type": "markdown",
   "metadata": {
    "tags": []
   },
   "source": [
    "### In the next code cell, you can run an extremely simple program which calculates the hypotenuse (c) of a triangle, given the lengths of the other two sides (a) and (b). "
   ]
  },
  {
   "cell_type": "code",
   "execution_count": 6,
   "metadata": {},
   "outputs": [
    {
     "name": "stdin",
     "output_type": "stream",
     "text": [
      "please type the length of a in [cm]: 2\n",
      "please type the length of b in [cm]: 1\n"
     ]
    },
    {
     "name": "stdout",
     "output_type": "stream",
     "text": [
      "The length of the hypotenuse is: C = 2.23606797749979 [cm]\n"
     ]
    }
   ],
   "source": [
    "a = float(input(\"please type the length of a in [cm]:\"))\n",
    "b = float(input(\"please type the length of b in [cm]:\"))\n",
    "\n",
    "print(f\"The length of the hypotenuse is: C = {(a**2 + b**2)**0.5} [cm]\")"
   ]
  },
  {
   "cell_type": "markdown",
   "metadata": {},
   "source": [
    "___\n",
    "Bulleted List\n",
    "* Listed Item 1\n",
    "* Listed Item 2\n",
    "* Listed Item 3\n",
    "---\n",
    "Numbered List\n",
    "1. One \n",
    "2. Two\n",
    "3. Three\n",
    "---\n",
    "Table\n",
    "Coursera | IBM | Jupyter\n",
    ":---: | :---: | :---:\n",
    "**Data Science** | **Machine Learning** | **Visualization**\n",
    "**Analytics** | **Pattern Extraction** | **Curiosity**\n",
    "---\n",
    "Syntax Highlighting\n",
    "\n",
    "```python\n",
    "a = float(input(\"please type the length of a in [cm]:\"))\n",
    "b = float(input(\"please type the length of b in [cm]:\"))\n",
    "\n",
    "print(f\"The length of the hypotenuse is: C = {(a**2 + b**2)**0.5}\")\n",
    "```\n",
    "---\n",
    "[Explore the Markdown Cheatsheet](https://github.com/adam-p/markdown-here/wiki/Markdown-Cheatsheet)"
   ]
  }
 ],
 "metadata": {
  "kernelspec": {
   "display_name": "Python",
   "language": "python",
   "name": "conda-env-python-py"
  },
  "language_info": {
   "codemirror_mode": {
    "name": "ipython",
    "version": 3
   },
   "file_extension": ".py",
   "mimetype": "text/x-python",
   "name": "python",
   "nbconvert_exporter": "python",
   "pygments_lexer": "ipython3",
   "version": "3.7.12"
  }
 },
 "nbformat": 4,
 "nbformat_minor": 4
}
